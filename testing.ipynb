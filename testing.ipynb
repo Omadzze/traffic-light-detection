{
 "cells": [
  {
   "cell_type": "code",
   "execution_count": null,
   "id": "d0ec959b-db84-4827-ab40-52ff390dae3f",
   "metadata": {},
   "outputs": [],
   "source": [
    "import numpy as np\n",
    "import cv2\n",
    "import os\n",
    "import functions as f\n",
    "import torch\n",
    "import random\n",
    "import yaml\n",
    "import pickle\n",
    "import gc\n",
    "from datetime import datetime\n",
    "import matplotlib.pyplot as plt\n",
    "from sklearn.cluster import KMeans\n",
    "from ultralytics import YOLO\n",
    "from IPython.display import display, Image\n",
    "\n",
    "\n",
    "# Setup device-agnostic code\n",
    "device = 'cuda' if torch.cuda.is_available() else 'mps' if torch.backends.mps.is_available else 'cpu'\n",
    "print(f\"Used Device: {device}\")\n",
    "\n",
    "workdir = os.getcwd()"
   ]
  },
  {
   "cell_type": "code",
   "execution_count": null,
   "id": "a6fbd589-e814-46ac-b40a-87ee830ef6ed",
   "metadata": {},
   "outputs": [],
   "source": [
    "# load state\n",
    "state_dict = f.load_states_dict('states/init_dict_yolov8n.pkl')\n",
    "\n",
    "data_path = state_dict['data_path']\n",
    "unlabeled_pool_ids = state_dict['unlabeled_pool_ids']\n",
    "labeled_pool_ids = state_dict['labeled_pool_ids']\n",
    "#xywh = state_dict['xywh']\n",
    "#confidences = state_dict['confidences']\n",
    "results_dir = state_dict['results_dir']\n",
    "model = YOLO(state_dict['model_path'])\n",
    "# print((labeled_pool_ids))\n",
    "# display(Image(f'{results_dir}/results.png'))"
   ]
  },
  {
   "cell_type": "code",
   "execution_count": null,
   "id": "092c9e7c-6614-4635-b7eb-0782373632a1",
   "metadata": {},
   "outputs": [],
   "source": [
    "epochs = 10\n",
    "batchsize = 1000\n",
    "nr_loops = 1\n",
    "sample_mode = 'hybrid_1'\n",
    "save_states = True\n",
    "xywh=None\n",
    "confidences=None\n",
    "\n",
    "model, unlabeled_pool_ids, labeled_pool_ids = f.training_loop(model,\n",
    "                                                          unlabeled_pool_ids,\n",
    "                                                          labeled_pool_ids,\n",
    "                                                          data_path,\n",
    "                                                          device,\n",
    "                                                          epochs,\n",
    "                                                          batchsize,\n",
    "                                                          nr_loops,\n",
    "                                                          sample_mode,\n",
    "                                                          save_states=save_states,\n",
    "                                                          xywh_init=xywh,\n",
    "                                                          confidences_init=confidences)"
   ]
  }
 ],
 "metadata": {
  "kernelspec": {
   "display_name": "Python 3 (ipykernel)",
   "language": "python",
   "name": "python3"
  },
  "language_info": {
   "codemirror_mode": {
    "name": "ipython",
    "version": 3
   },
   "file_extension": ".py",
   "mimetype": "text/x-python",
   "name": "python",
   "nbconvert_exporter": "python",
   "pygments_lexer": "ipython3",
   "version": "3.9.6"
  }
 },
 "nbformat": 4,
 "nbformat_minor": 5
}
